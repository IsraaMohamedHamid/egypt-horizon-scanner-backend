{
 "cells": [
  {
   "cell_type": "code",
   "execution_count": 3,
   "metadata": {},
   "outputs": [
    {
     "name": "stdout",
     "output_type": "stream",
     "text": [
      "Requirement already satisfied: pandas in /Library/Frameworks/Python.framework/Versions/3.11/lib/python3.11/site-packages (1.5.3)\n",
      "Collecting openpyxl\n",
      "  Downloading openpyxl-3.1.2-py2.py3-none-any.whl.metadata (2.5 kB)\n",
      "Requirement already satisfied: python-dateutil>=2.8.1 in /Users/izzymohamed/Library/Python/3.11/lib/python/site-packages (from pandas) (2.8.2)\n",
      "Requirement already satisfied: pytz>=2020.1 in /Library/Frameworks/Python.framework/Versions/3.11/lib/python3.11/site-packages (from pandas) (2023.3)\n",
      "Requirement already satisfied: numpy>=1.21.0 in /Library/Frameworks/Python.framework/Versions/3.11/lib/python3.11/site-packages (from pandas) (1.24.2)\n",
      "Collecting et-xmlfile (from openpyxl)\n",
      "  Downloading et_xmlfile-1.1.0-py3-none-any.whl.metadata (1.8 kB)\n",
      "Requirement already satisfied: six>=1.5 in /Users/izzymohamed/Library/Python/3.11/lib/python/site-packages (from python-dateutil>=2.8.1->pandas) (1.16.0)\n",
      "Downloading openpyxl-3.1.2-py2.py3-none-any.whl (249 kB)\n",
      "\u001b[2K   \u001b[90m━━━━━━━━━━━━━━━━━━━━━━━━━━━━━━━━━━━━━━━━\u001b[0m \u001b[32m250.0/250.0 kB\u001b[0m \u001b[31m4.9 MB/s\u001b[0m eta \u001b[36m0:00:00\u001b[0ma \u001b[36m0:00:01\u001b[0m\n",
      "\u001b[?25hDownloading et_xmlfile-1.1.0-py3-none-any.whl (4.7 kB)\n",
      "Installing collected packages: et-xmlfile, openpyxl\n",
      "Successfully installed et-xmlfile-1.1.0 openpyxl-3.1.2\n"
     ]
    }
   ],
   "source": [
    "# !pip3 install pandas openpyxl"
   ]
  },
  {
   "cell_type": "code",
   "execution_count": 4,
   "metadata": {},
   "outputs": [],
   "source": [
    "import json\n",
    "import csv\n",
    "import pandas as pd\n",
    "import openpyxl"
   ]
  },
  {
   "cell_type": "code",
   "execution_count": null,
   "metadata": {},
   "outputs": [],
   "source": [
    "# Convert Json to CSV\n",
    "def json_to_csv(json_filepath, csv_filepath):\n",
    "    # Read the JSON file\n",
    "    with open(json_filepath, 'r') as file:\n",
    "        data = json.load(file)\n",
    "\n",
    "    # Open the CSV file for writing\n",
    "    with open(csv_filepath, 'w', newline='') as file:\n",
    "        writer = csv.writer(file)\n",
    "\n",
    "        # Write the headers (keys of the JSON objects)\n",
    "        if data:\n",
    "            headers = data[0].keys()\n",
    "            writer.writerow(headers)\n",
    "\n",
    "            # Write the data rows\n",
    "            for item in data:\n",
    "                writer.writerow(item.values())\n",
    "\n",
    "# Example usage\n",
    "# json_to_csv('data.json', 'output.csv')\n"
   ]
  },
  {
   "cell_type": "code",
   "execution_count": null,
   "metadata": {},
   "outputs": [],
   "source": [
    "# Convert csv to json\n",
    "def csv_to_json(csv_filepath, json_filepath):\n",
    "    # Read the CSV and add data to a dictionary\n",
    "    with open(csv_filepath, 'r') as file:\n",
    "        csv_reader = csv.DictReader(file)\n",
    "        data = [row for row in csv_reader]\n",
    "\n",
    "    # Write data to a JSON file\n",
    "    with open(json_filepath, 'w') as file:\n",
    "        json.dump(data, file, indent=4)\n",
    "\n",
    "# Example usage\n",
    "# csv_to_json('data.csv', 'output.json')\n"
   ]
  },
  {
   "cell_type": "code",
   "execution_count": null,
   "metadata": {},
   "outputs": [],
   "source": [
    "# Convert json to excel \n",
    "def json_to_excel(json_filepath, excel_filepath):\n",
    "    # Load the JSON data into a DataFrame\n",
    "    df = pd.read_json(json_filepath)\n",
    "\n",
    "    # Write the DataFrame to an Excel file\n",
    "    with pd.ExcelWriter(excel_filepath, engine='openpyxl') as writer:\n",
    "        df.to_excel(writer, index=False)\n",
    "\n",
    "# Example usage\n",
    "# json_to_excel('data.json', 'output.xlsx')"
   ]
  },
  {
   "cell_type": "code",
   "execution_count": null,
   "metadata": {},
   "outputs": [],
   "source": [
    "# Convert excel to json\n",
    "def excel_to_json(excel_filepath, json_filepath):\n",
    "    # Load the data from Excel into a DataFrame\n",
    "    df = pd.read_excel(excel_filepath)\n",
    "\n",
    "    # Write the DataFrame to a JSON file\n",
    "    df.to_json(json_filepath, orient='records', indent=4)\n",
    "\n",
    "# Example usage\n",
    "# excel_to_json('data.xlsx', 'output.json')"
   ]
  },
  {
   "cell_type": "code",
   "execution_count": 7,
   "metadata": {},
   "outputs": [
    {
     "name": "stderr",
     "output_type": "stream",
     "text": [
      "/Library/Frameworks/Python.framework/Versions/3.11/lib/python3.11/site-packages/openpyxl/workbook/child.py:99: UserWarning: Title is more than 31 characters. Some applications may not be able to read the file\n",
      "  warnings.warn(\"Title is more than 31 characters. Some applications may not be able to read the file\")\n"
     ]
    }
   ],
   "source": [
    "# Convert multiple jsons to one excel, each json to a different excel sheet within the same excel notebook\n",
    "def jsons_to_excel(json_filepaths, excel_filepath):\n",
    "    # Create an Excel writer object using pandas and openpyxl as the engine\n",
    "    with pd.ExcelWriter(excel_filepath, engine='openpyxl') as writer:\n",
    "        at_least_one_sheet = False  # Track if at least one sheet has been added\n",
    "        for json_path in json_filepaths:\n",
    "            try:\n",
    "                # Load JSON data into a DataFrame\n",
    "                df = pd.read_json(json_path)\n",
    "                \n",
    "                # Extract the filename to use as the sheet name\n",
    "                sheet_name = json_path.split('/')[-1].replace('.json', '')\n",
    "                \n",
    "                # Write DataFrame to a specific sheet\n",
    "                df.to_excel(writer, sheet_name=sheet_name, index=False)\n",
    "                at_least_one_sheet = True  # Mark that we have added at least one sheet\n",
    "            except Exception as e:\n",
    "                print(f\"Failed to process {json_path}: {e}\")\n",
    "\n",
    "        if not at_least_one_sheet:\n",
    "            print(\"No JSON files were converted. Please check the file paths and data.\")\n",
    "\n",
    "# Example usage\n",
    "main_root = \"/Users/izzymohamed/Desktop/Horizon Scanner/egypt-horizon-scanner/JSON/Response Now/Interventions Mapping\"\n",
    "json_files = [\n",
    "    f'{main_root}/interventions_municipal_division_map.json', \n",
    "    f'{main_root}/interventions_governorate_map.json', \n",
    "    f'{main_root}/project_data.json'\n",
    "]\n",
    "output_excel = f'{main_root}/interventions_mapping_dummy_data.xlsx'\n",
    "jsons_to_excel(json_files, output_excel)"
   ]
  },
  {
   "cell_type": "code",
   "execution_count": null,
   "metadata": {},
   "outputs": [],
   "source": [
    "# Convert excel with multiple sheets into multiple jsons files\n",
    "def excel_to_jsons(excel_filepath):\n",
    "    # Load the Excel file into a pandas ExcelFile object\n",
    "    with pd.ExcelFile(excel_filepath) as xls:\n",
    "        # Iterate over each sheet in the Excel file\n",
    "        for sheet_name in xls.sheet_names:\n",
    "            # Read the sheet into a DataFrame\n",
    "            df = pd.read_excel(xls, sheet_name=sheet_name)\n",
    "            \n",
    "            # Define the JSON file name based on the sheet name\n",
    "            json_path = f\"{sheet_name}.json\"\n",
    "            \n",
    "            # Write the DataFrame to a JSON file\n",
    "            df.to_json(json_path, orient='records', indent=4)\n",
    "            print(f\"Exported {sheet_name} to {json_path}\")\n",
    "\n",
    "# Example usage\n",
    "# excel_to_jsons('combined_output.xlsx')"
   ]
  }
 ],
 "metadata": {
  "kernelspec": {
   "display_name": "Python 3",
   "language": "python",
   "name": "python3"
  },
  "language_info": {
   "codemirror_mode": {
    "name": "ipython",
    "version": 3
   },
   "file_extension": ".py",
   "mimetype": "text/x-python",
   "name": "python",
   "nbconvert_exporter": "python",
   "pygments_lexer": "ipython3",
   "version": "3.11.2"
  }
 },
 "nbformat": 4,
 "nbformat_minor": 2
}
