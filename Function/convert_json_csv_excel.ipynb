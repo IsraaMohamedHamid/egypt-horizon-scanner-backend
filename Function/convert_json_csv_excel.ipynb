{
 "cells": [
  {
   "cell_type": "code",
   "execution_count": null,
   "metadata": {},
   "outputs": [],
   "source": [
    "# !pip3 install pandas openpyxl"
   ]
  },
  {
   "cell_type": "code",
   "execution_count": 1,
   "metadata": {},
   "outputs": [],
   "source": [
    "import json\n",
    "import csv\n",
    "import pandas as pd\n",
    "import openpyxl"
   ]
  },
  {
   "cell_type": "code",
   "execution_count": null,
   "metadata": {},
   "outputs": [],
   "source": [
    "# Convert Json to CSV\n",
    "def json_to_csv(json_filepath, csv_filepath):\n",
    "    # Read the JSON file\n",
    "    with open(json_filepath, 'r') as file:\n",
    "        data = json.load(file)\n",
    "\n",
    "    # Open the CSV file for writing\n",
    "    with open(csv_filepath, 'w', newline='') as file:\n",
    "        writer = csv.writer(file)\n",
    "\n",
    "        # Write the headers (keys of the JSON objects)\n",
    "        if data:\n",
    "            headers = data[0].keys()\n",
    "            writer.writerow(headers)\n",
    "\n",
    "            # Write the data rows\n",
    "            for item in data:\n",
    "                writer.writerow(item.values())\n",
    "\n",
    "# Example usage\n",
    "# json_to_csv('data.json', 'output.csv')"
   ]
  },
  {
   "cell_type": "code",
   "execution_count": null,
   "metadata": {},
   "outputs": [],
   "source": [
    "# Convert csv to json\n",
    "def csv_to_json(csv_filepath, json_filepath):\n",
    "    # Read the CSV and add data to a dictionary\n",
    "    with open(csv_filepath, 'r') as file:\n",
    "        csv_reader = csv.DictReader(file)\n",
    "        data = [row for row in csv_reader]\n",
    "\n",
    "    # Write data to a JSON file\n",
    "    with open(json_filepath, 'w') as file:\n",
    "        json.dump(data, file, indent=4)\n",
    "\n",
    "# Example usage\n",
    "# csv_to_json('data.csv', 'output.json')"
   ]
  },
  {
   "cell_type": "code",
   "execution_count": null,
   "metadata": {},
   "outputs": [],
   "source": [
    "# Convert json to excel \n",
    "def json_to_excel(json_filepath, excel_filepath):\n",
    "    # Load the JSON data into a DataFrame\n",
    "    df = pd.read_json(json_filepath)\n",
    "\n",
    "    # Write the DataFrame to an Excel file\n",
    "    with pd.ExcelWriter(excel_filepath, engine='openpyxl') as writer:\n",
    "        df.to_excel(writer, index=False)\n",
    "\n",
    "# Example usage\n",
    "# json_to_excel('data.json', 'output.xlsx')"
   ]
  },
  {
   "cell_type": "code",
   "execution_count": null,
   "metadata": {},
   "outputs": [],
   "source": [
    "import pandas as pd\n",
    "\n",
    "# Convert excel to json\n",
    "def excel_to_json(excel_filepath, json_filepath, sheet_name):\n",
    "    # Load the data from Excel into a DataFrame\n",
    "    df = pd.read_excel(excel_filepath, sheet_name=sheet_name)\n",
    "\n",
    "    # Write the DataFrame to a JSON file\n",
    "    df.to_json(json_filepath, orient='records', indent=4)\n",
    "\n",
    "# Example usage\n",
    "excel_filepath = '/Users/izzymohamed/Desktop/Horizon Scanner/egypt-horizon-scanner/JSON/Digital Avatar/Restricted_ Last  Modified New Dimensions and Pillars.xlsx'\n",
    "json_filepath = 'output.json'\n",
    "sheet_name = 'Dimensions'  # Replace 'Sheet1' with the actual sheet name\n",
    "# excel_to_json(excel_filepath, json_filepath, sheet_name)"
   ]
  },
  {
   "cell_type": "code",
   "execution_count": null,
   "metadata": {},
   "outputs": [],
   "source": [
    "# Convert multiple jsons to one excel, each json to a different excel sheet within the same excel notebook\n",
    "def jsons_to_excel(json_filepaths, excel_filepath):\n",
    "    # Create an Excel writer object using pandas and openpyxl as the engine\n",
    "    with pd.ExcelWriter(excel_filepath, engine='openpyxl') as writer:\n",
    "        at_least_one_sheet = False  # Track if at least one sheet has been added\n",
    "        for json_path in json_filepaths:\n",
    "            try:\n",
    "                # Load JSON data into a DataFrame\n",
    "                df = pd.read_json(json_path)\n",
    "                \n",
    "                # Extract the filename to use as the sheet name\n",
    "                sheet_name = json_path.split('/')[-1].replace('.json', '')\n",
    "                \n",
    "                # Write DataFrame to a specific sheet\n",
    "                df.to_excel(writer, sheet_name=sheet_name, index=False)\n",
    "                at_least_one_sheet = True  # Mark that we have added at least one sheet\n",
    "            except Exception as e:\n",
    "                print(f\"Failed to process {json_path}: {e}\")\n",
    "\n",
    "        if not at_least_one_sheet:\n",
    "            print(\"No JSON files were converted. Please check the file paths and data.\")\n",
    "\n",
    "# Example usage\n",
    "main_root = \"/Users/izzymohamed/Desktop/Horizon Scanner/egypt-horizon-scanner/JSON/Response Now/Interventions Mapping\"\n",
    "json_files = [\n",
    "    f'{main_root}/interventions_municipal_division_map.json', \n",
    "    f'{main_root}/interventions_governorate_map.json', \n",
    "    f'{main_root}/project_data.json'\n",
    "]\n",
    "output_excel = f'{main_root}/interventions_mapping_dummy_data.xlsx'\n",
    "jsons_to_excel(json_files, output_excel)"
   ]
  },
  {
   "cell_type": "code",
   "execution_count": null,
   "metadata": {},
   "outputs": [],
   "source": [
    "# Convert excel with multiple sheets into multiple jsons files\n",
    "def excel_to_jsons(excel_filepath):\n",
    "    # Load the Excel file into a pandas ExcelFile object\n",
    "    with pd.ExcelFile(excel_filepath) as xls:\n",
    "        # Iterate over each sheet in the Excel file\n",
    "        for sheet_name in xls.sheet_names:\n",
    "            # Read the sheet into a DataFrame\n",
    "            df = pd.read_excel(xls, sheet_name=sheet_name)\n",
    "            \n",
    "            # Define the JSON file name based on the sheet name\n",
    "            json_path = f\"{sheet_name}.json\"\n",
    "            \n",
    "            # Write the DataFrame to a JSON file\n",
    "            df.to_json(json_path, orient='records', indent=4)\n",
    "            print(f\"Exported {sheet_name} to {json_path}\")\n",
    "\n",
    "# Example usage\n",
    "# excel_to_jsons('combined_output.xlsx')"
   ]
  },
  {
   "cell_type": "code",
   "execution_count": 3,
   "metadata": {},
   "outputs": [
    {
     "name": "stdout",
     "output_type": "stream",
     "text": [
      "Exported Software Issues to Software Issues.json\n"
     ]
    }
   ],
   "source": [
    "# Convert excel with multiple sheets into multiple jsons files\n",
    "def excelsheet_to_jsons(excel_filepath, sheet_name_selected):\n",
    "    # Load the Excel file into a pandas ExcelFile object\n",
    "    with pd.ExcelFile(excel_filepath) as xls:\n",
    "        # Iterate over each sheet in the Excel file\n",
    "        for sheet_name in xls.sheet_names:\n",
    "            if sheet_name == sheet_name_selected:\n",
    "                # Read the sheet into a DataFrame\n",
    "                df = pd.read_excel(xls, sheet_name=sheet_name)\n",
    "                \n",
    "                # Define the JSON file name based on the sheet name\n",
    "                json_path = f\"{sheet_name}.json\"\n",
    "                \n",
    "                # Write the DataFrame to a JSON file\n",
    "                df.to_json(json_path, orient='records', indent=4)\n",
    "                print(f\"Exported {sheet_name} to {json_path}\")\n",
    "\n",
    "# Example usage\n",
    "excelsheet_to_jsons('/Users/izzymohamed/Downloads/Latest Matrix_New-Dimensions-and-Pillars-2.xlsx', 'Software Issues')"
   ]
  }
 ],
 "metadata": {
  "kernelspec": {
   "display_name": "Python 3",
   "language": "python",
   "name": "python3"
  },
  "language_info": {
   "codemirror_mode": {
    "name": "ipython",
    "version": 3
   },
   "file_extension": ".py",
   "mimetype": "text/x-python",
   "name": "python",
   "nbconvert_exporter": "python",
   "pygments_lexer": "ipython3",
   "version": "3.11.2"
  }
 },
 "nbformat": 4,
 "nbformat_minor": 2
}
